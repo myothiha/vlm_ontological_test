{
 "cells": [
  {
   "cell_type": "code",
   "execution_count": 1,
   "id": "39e44718",
   "metadata": {},
   "outputs": [
    {
     "name": "stderr",
     "output_type": "stream",
     "text": [
      "/home/anaconda3/envs/myo_thesis/lib/python3.9/site-packages/tqdm/auto.py:21: TqdmWarning: IProgress not found. Please update jupyter and ipywidgets. See https://ipywidgets.readthedocs.io/en/stable/user_install.html\n",
      "  from .autonotebook import tqdm as notebook_tqdm\n",
      "/home/anaconda3/envs/myo_thesis/lib/python3.9/site-packages/PIL/TiffImagePlugin.py:949: UserWarning: Truncated File Read\n",
      "  warnings.warn(str(msg))\n",
      "/home/anaconda3/envs/myo_thesis/lib/python3.9/site-packages/PIL/TiffImagePlugin.py:949: UserWarning: Truncated File Read\n",
      "  warnings.warn(str(msg))\n"
     ]
    },
    {
     "data": {
      "text/html": [
       "<div>\n",
       "<style scoped>\n",
       "    .dataframe tbody tr th:only-of-type {\n",
       "        vertical-align: middle;\n",
       "    }\n",
       "\n",
       "    .dataframe tbody tr th {\n",
       "        vertical-align: top;\n",
       "    }\n",
       "\n",
       "    .dataframe thead th {\n",
       "        text-align: right;\n",
       "    }\n",
       "</style>\n",
       "<table border=\"1\" class=\"dataframe\">\n",
       "  <thead>\n",
       "    <tr style=\"text-align: right;\">\n",
       "      <th></th>\n",
       "      <th>image</th>\n",
       "      <th>question</th>\n",
       "      <th>answer</th>\n",
       "    </tr>\n",
       "  </thead>\n",
       "  <tbody>\n",
       "    <tr>\n",
       "      <th>0</th>\n",
       "      <td>&lt;PIL.JpegImagePlugin.JpegImageFile image mode=...</td>\n",
       "      <td>where are liver stem cells (oval cells) located?</td>\n",
       "      <td>in the canals of hering</td>\n",
       "    </tr>\n",
       "    <tr>\n",
       "      <th>1</th>\n",
       "      <td>&lt;PIL.JpegImagePlugin.JpegImageFile image mode=...</td>\n",
       "      <td>what are stained here with an immunohistochemi...</td>\n",
       "      <td>bile duct cells and canals of hering</td>\n",
       "    </tr>\n",
       "    <tr>\n",
       "      <th>2</th>\n",
       "      <td>&lt;PIL.JpegImagePlugin.JpegImageFile image mode=...</td>\n",
       "      <td>what do the areas of white chalky deposits rep...</td>\n",
       "      <td>foci of fat necrosis</td>\n",
       "    </tr>\n",
       "    <tr>\n",
       "      <th>3</th>\n",
       "      <td>&lt;PIL.JpegImagePlugin.JpegImageFile image mode=...</td>\n",
       "      <td>is embolus derived from a lower-extremity deep...</td>\n",
       "      <td>yes</td>\n",
       "    </tr>\n",
       "    <tr>\n",
       "      <th>4</th>\n",
       "      <td>&lt;PIL.JpegImagePlugin.JpegImageFile image mode=...</td>\n",
       "      <td>how is hyperplasia without atypia characterized?</td>\n",
       "      <td>by nests of closely packed glands</td>\n",
       "    </tr>\n",
       "  </tbody>\n",
       "</table>\n",
       "</div>"
      ],
      "text/plain": [
       "                                               image  \\\n",
       "0  <PIL.JpegImagePlugin.JpegImageFile image mode=...   \n",
       "1  <PIL.JpegImagePlugin.JpegImageFile image mode=...   \n",
       "2  <PIL.JpegImagePlugin.JpegImageFile image mode=...   \n",
       "3  <PIL.JpegImagePlugin.JpegImageFile image mode=...   \n",
       "4  <PIL.JpegImagePlugin.JpegImageFile image mode=...   \n",
       "\n",
       "                                            question  \\\n",
       "0   where are liver stem cells (oval cells) located?   \n",
       "1  what are stained here with an immunohistochemi...   \n",
       "2  what do the areas of white chalky deposits rep...   \n",
       "3  is embolus derived from a lower-extremity deep...   \n",
       "4   how is hyperplasia without atypia characterized?   \n",
       "\n",
       "                                 answer  \n",
       "0               in the canals of hering  \n",
       "1  bile duct cells and canals of hering  \n",
       "2                  foci of fat necrosis  \n",
       "3                                   yes  \n",
       "4     by nests of closely packed glands  "
      ]
     },
     "execution_count": 1,
     "metadata": {},
     "output_type": "execute_result"
    }
   ],
   "source": [
    "from datasets import load_dataset\n",
    "import pandas as pd\n",
    "\n",
    "# Download and load the PathVQA dataset (train split)\n",
    "hf_dataset = load_dataset(\"flaviagiammarino/path-vqa\", split=\"train\")\n",
    "\n",
    "# Convert to pandas DataFrame\n",
    "df = pd.DataFrame(hf_dataset)\n",
    "df.head()"
   ]
  },
  {
   "cell_type": "code",
   "execution_count": null,
   "id": "f84befbc",
   "metadata": {},
   "outputs": [
    {
     "name": "stdout",
     "output_type": "stream",
     "text": [
      "Longest answer: that median lobe hyperplasia with marked cystitis and bladder hypertrophy ureter appear normal focal hemorrhages in kidneys and hemorrhagic pyelitis indicates pyelonephritis carcinoma in prostate is diagnosis but can not\n",
      "Length: 220\n"
     ]
    },
    {
     "data": {
      "text/plain": [
       "image       <PIL.JpegImagePlugin.JpegImageFile image mode=...\n",
       "question                           what does this image show?\n",
       "answer      that median lobe hyperplasia with marked cysti...\n",
       "Name: 4593, dtype: object"
      ]
     },
     "execution_count": 2,
     "metadata": {},
     "output_type": "execute_result"
    }
   ],
   "source": [
    "# Find the longest answer in the dataset\n",
    "longest_answer_row = df.loc[df['answer'].str.len().idxmax()]\n",
    "print('Longest answer:', longest_answer_row['answer'])\n",
    "print('Length:', len(longest_answer_row['answer']))\n",
    "longest_answer_row"
   ]
  }
 ],
 "metadata": {
  "kernelspec": {
   "display_name": "myo_thesis",
   "language": "python",
   "name": "python3"
  },
  "language_info": {
   "codemirror_mode": {
    "name": "ipython",
    "version": 3
   },
   "file_extension": ".py",
   "mimetype": "text/x-python",
   "name": "python",
   "nbconvert_exporter": "python",
   "pygments_lexer": "ipython3",
   "version": "3.9.21"
  }
 },
 "nbformat": 4,
 "nbformat_minor": 5
}
