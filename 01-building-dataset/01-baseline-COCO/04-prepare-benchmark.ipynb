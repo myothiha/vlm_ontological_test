{
 "cells": [
  {
   "cell_type": "code",
   "execution_count": 1,
   "id": "70f7afec",
   "metadata": {},
   "outputs": [
    {
     "data": {
      "text/html": [
       "<div>\n",
       "<style scoped>\n",
       "    .dataframe tbody tr th:only-of-type {\n",
       "        vertical-align: middle;\n",
       "    }\n",
       "\n",
       "    .dataframe tbody tr th {\n",
       "        vertical-align: top;\n",
       "    }\n",
       "\n",
       "    .dataframe thead th {\n",
       "        text-align: right;\n",
       "    }\n",
       "</style>\n",
       "<table border=\"1\" class=\"dataframe\">\n",
       "  <thead>\n",
       "    <tr style=\"text-align: right;\">\n",
       "      <th></th>\n",
       "      <th>class</th>\n",
       "      <th>knowledge_questions</th>\n",
       "      <th>generated_knowledge</th>\n",
       "      <th>vlm_reasoning_questions</th>\n",
       "    </tr>\n",
       "  </thead>\n",
       "  <tbody>\n",
       "    <tr>\n",
       "      <th>0</th>\n",
       "      <td>person</td>\n",
       "      <td>[\"List the superclasses of person.\", \"List the...</td>\n",
       "      <td>[\"The superclasses of person are [Agent, Livin...</td>\n",
       "      <td>[\"Does the image contain an agent?\", \"Is there...</td>\n",
       "    </tr>\n",
       "    <tr>\n",
       "      <th>1</th>\n",
       "      <td>bicycle</td>\n",
       "      <td>[\"What are the essential components that defin...</td>\n",
       "      <td>[\"What are the essential components that defin...</td>\n",
       "      <td>[\"Does the image contain something that is typ...</td>\n",
       "    </tr>\n",
       "    <tr>\n",
       "      <th>2</th>\n",
       "      <td>car</td>\n",
       "      <td>[\"What are the essential components that defin...</td>\n",
       "      <td>[\"What are the essential components that defin...</td>\n",
       "      <td>[\"Does the image contain a vehicle that uses f...</td>\n",
       "    </tr>\n",
       "    <tr>\n",
       "      <th>3</th>\n",
       "      <td>motorcycle</td>\n",
       "      <td>[\"List the superclasses of motorcycle.\", \"List...</td>\n",
       "      <td>[\"List the superclasses of motorcycle.\", \"List...</td>\n",
       "      <td>[\"Does the image contain a vehicle?\", \"Is ther...</td>\n",
       "    </tr>\n",
       "    <tr>\n",
       "      <th>4</th>\n",
       "      <td>airplane</td>\n",
       "      <td>[\"What are the superclasses of airplane?\", \"Wh...</td>\n",
       "      <td>[\"What are the superclasses of airplane?\", \"Wh...</td>\n",
       "      <td>[\"Is there an object in the image that could b...</td>\n",
       "    </tr>\n",
       "  </tbody>\n",
       "</table>\n",
       "</div>"
      ],
      "text/plain": [
       "        class                                knowledge_questions  \\\n",
       "0      person  [\"List the superclasses of person.\", \"List the...   \n",
       "1     bicycle  [\"What are the essential components that defin...   \n",
       "2         car  [\"What are the essential components that defin...   \n",
       "3  motorcycle  [\"List the superclasses of motorcycle.\", \"List...   \n",
       "4    airplane  [\"What are the superclasses of airplane?\", \"Wh...   \n",
       "\n",
       "                                 generated_knowledge  \\\n",
       "0  [\"The superclasses of person are [Agent, Livin...   \n",
       "1  [\"What are the essential components that defin...   \n",
       "2  [\"What are the essential components that defin...   \n",
       "3  [\"List the superclasses of motorcycle.\", \"List...   \n",
       "4  [\"What are the superclasses of airplane?\", \"Wh...   \n",
       "\n",
       "                             vlm_reasoning_questions  \n",
       "0  [\"Does the image contain an agent?\", \"Is there...  \n",
       "1  [\"Does the image contain something that is typ...  \n",
       "2  [\"Does the image contain a vehicle that uses f...  \n",
       "3  [\"Does the image contain a vehicle?\", \"Is ther...  \n",
       "4  [\"Is there an object in the image that could b...  "
      ]
     },
     "execution_count": 1,
     "metadata": {},
     "output_type": "execute_result"
    }
   ],
   "source": [
    "import pandas as pd\n",
    "csv_input = \"results/03_generate_vlm_reasoning_questions.csv\"\n",
    "df = pd.read_csv(csv_input)\n",
    "df.head()"
   ]
  },
  {
   "cell_type": "code",
   "execution_count": 7,
   "id": "d3c5fc3a",
   "metadata": {},
   "outputs": [],
   "source": [
    "df = df.set_index('class')"
   ]
  },
  {
   "cell_type": "code",
   "execution_count": 12,
   "id": "34c63080",
   "metadata": {},
   "outputs": [
    {
     "data": {
      "text/plain": [
       "{'knowledge_questions': '[\"List the superclasses of person.\", \"List the object properties where person appears as a subject.\", \"List the part-of relationships defined for person.\", \"List the data properties that describe person.\", \"List the roles that a person can play.\"]',\n",
       " 'generated_knowledge': '[\"The superclasses of person are [Agent, LivingThing].\", \"Person has object properties such as [hasChild, worksAt, owns].\", \"Person is composed of parts such as [head, body, limbs].\", \"Person has data properties such as [name, age, gender].\", \"Person can play roles such as [parent, employee, friend].\"]',\n",
       " 'vlm_reasoning_questions': '[\"Does the image contain an agent?\", \"Is there a living thing in the image?\", \"Does the image depict someone who might have a child?\", \"Is there an object in the image that could work at a place?\", \"Does the image contain something that could own an object?\", \"Is there a person in the image with a head, body, and limbs?\", \"Does the image show something with a name, age, and gender?\", \"Is there an object in the image that could be a parent?\", \"Does the image depict someone who might be an employee?\", \"Is there a person in the image who could be a friend?\"]'}"
      ]
     },
     "execution_count": 12,
     "metadata": {},
     "output_type": "execute_result"
    }
   ],
   "source": [
    "record = df.to_dict(orient=\"index\")\n",
    "record['person']"
   ]
  }
 ],
 "metadata": {
  "kernelspec": {
   "display_name": "myo_thesis",
   "language": "python",
   "name": "python3"
  },
  "language_info": {
   "codemirror_mode": {
    "name": "ipython",
    "version": 3
   },
   "file_extension": ".py",
   "mimetype": "text/x-python",
   "name": "python",
   "nbconvert_exporter": "python",
   "pygments_lexer": "ipython3",
   "version": "3.11.11"
  }
 },
 "nbformat": 4,
 "nbformat_minor": 5
}
